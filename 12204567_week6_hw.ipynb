{
  "nbformat": 4,
  "nbformat_minor": 0,
  "metadata": {
    "colab": {
      "provenance": [],
      "authorship_tag": "ABX9TyMskLmC1XQ7WxhAJLV7JLH9",
      "include_colab_link": true
    },
    "kernelspec": {
      "name": "python3",
      "display_name": "Python 3"
    },
    "language_info": {
      "name": "python"
    }
  },
  "cells": [
    {
      "cell_type": "markdown",
      "metadata": {
        "id": "view-in-github",
        "colab_type": "text"
      },
      "source": [
        "<a href=\"https://colab.research.google.com/github/JavokhirJambulov/AIapplicationSystem/blob/main/12204567_week6_hw.ipynb\" target=\"_parent\"><img src=\"https://colab.research.google.com/assets/colab-badge.svg\" alt=\"Open In Colab\"/></a>"
      ]
    },
    {
      "cell_type": "markdown",
      "source": [
        "**Baseline Model:**"
      ],
      "metadata": {
        "id": "UsxsCgaqUiPK"
      }
    },
    {
      "cell_type": "code",
      "execution_count": 1,
      "metadata": {
        "id": "8QB6mrA44YbZ",
        "colab": {
          "base_uri": "https://localhost:8080/"
        },
        "outputId": "667abf7b-f3fc-4807-8b7c-17fc8a715f1e"
      },
      "outputs": [
        {
          "output_type": "stream",
          "name": "stdout",
          "text": [
            "Downloading data from https://storage.googleapis.com/tensorflow/tf-keras-datasets/mnist.npz\n",
            "11490434/11490434 [==============================] - 0s 0us/step\n"
          ]
        }
      ],
      "source": [
        "import tensorflow as tf\n",
        "\n",
        "# Load Data\n",
        "mnist = tf.keras.datasets.mnist\n",
        "\n",
        "# Split data into train and test\n",
        "(train_images, train_labels), (test_images, test_labels) = mnist.load_data()\n",
        "\n",
        "train_images = train_images / 255.0\n",
        "test_images = test_images / 255.0"
      ]
    },
    {
      "cell_type": "markdown",
      "source": [
        "**Activity 1:**"
      ],
      "metadata": {
        "id": "bG9MyUvhV-7_"
      }
    },
    {
      "cell_type": "code",
      "source": [
        "model = tf.keras.Sequential([\n",
        "    tf.keras.layers.Conv2D(32, (3, 3), activation='relu', input_shape=(28, 28, 1)),\n",
        "    tf.keras.layers.BatchNormalization(),\n",
        "    tf.keras.layers.MaxPooling2D((2, 2)),\n",
        "    tf.keras.layers.Conv2D(64, (3, 3), activation='relu'),\n",
        "    tf.keras.layers.BatchNormalization(),\n",
        "    tf.keras.layers.MaxPooling2D((2, 2)),\n",
        "    tf.keras.layers.Flatten(),\n",
        "    tf.keras.layers.Dense(128, activation='relu'),\n",
        "    tf.keras.layers.Dropout(0.5),  # Add Dropout layer with a dropout rate\n",
        "    tf.keras.layers.Dense(10, activation='softmax')\n",
        "])\n",
        "\n",
        "model.compile(optimizer='adam', loss='sparse_categorical_crossentropy', metrics=['accuracy'])\n",
        "model.fit(train_images, train_labels, epochs=5)\n",
        "\n",
        "test_loss, test_acc = model.evaluate(test_images, test_labels)\n",
        "model.save('mnist_cnn_model_with_dropout_bn.h5')\n",
        "\n",
        "loaded_model = tf.keras.models.load_model('mnist_cnn_model_with_dropout_bn.h5')\n",
        "\n",
        "test_loss, test_acc = loaded_model.evaluate(test_images, test_labels)\n",
        "\n",
        "print(\"Test accuracy:\", test_acc)"
      ],
      "metadata": {
        "colab": {
          "base_uri": "https://localhost:8080/"
        },
        "id": "1fhItjqKUkRq",
        "outputId": "4a85d13d-8ea5-4acf-d9b5-ffb2dd8c0693"
      },
      "execution_count": 2,
      "outputs": [
        {
          "output_type": "stream",
          "name": "stdout",
          "text": [
            "Epoch 1/5\n",
            "1875/1875 [==============================] - 99s 51ms/step - loss: 0.2085 - accuracy: 0.9397\n",
            "Epoch 2/5\n",
            "1875/1875 [==============================] - 81s 43ms/step - loss: 0.0931 - accuracy: 0.9736\n",
            "Epoch 3/5\n",
            "1875/1875 [==============================] - 82s 44ms/step - loss: 0.0751 - accuracy: 0.9793\n",
            "Epoch 4/5\n",
            "1875/1875 [==============================] - 88s 47ms/step - loss: 0.0607 - accuracy: 0.9828\n",
            "Epoch 5/5\n",
            "1875/1875 [==============================] - 81s 43ms/step - loss: 0.0541 - accuracy: 0.9842\n",
            "313/313 [==============================] - 5s 17ms/step - loss: 0.0351 - accuracy: 0.9894\n"
          ]
        },
        {
          "output_type": "stream",
          "name": "stderr",
          "text": [
            "/usr/local/lib/python3.10/dist-packages/keras/src/engine/training.py:3000: UserWarning: You are saving your model as an HDF5 file via `model.save()`. This file format is considered legacy. We recommend using instead the native Keras format, e.g. `model.save('my_model.keras')`.\n",
            "  saving_api.save_model(\n"
          ]
        },
        {
          "output_type": "stream",
          "name": "stdout",
          "text": [
            "313/313 [==============================] - 4s 12ms/step - loss: 0.0351 - accuracy: 0.9894\n",
            "Test accuracy: 0.9894000291824341\n"
          ]
        }
      ]
    },
    {
      "cell_type": "markdown",
      "source": [
        " *Adding Dropout and Batch Normalization layers to the CNN model can significantly improve its performance. Dropout helps prevent overfitting by randomly dropping a fraction of neurons during training.*\n",
        "\n",
        " *Batch Normalization normalizes the activations, making the training more stable and accelerating convergence. These techniques are particularly useful when dealing with deep neural networks.*\n",
        "\n",
        "**Test accuracy: 0.9894000291824341**"
      ],
      "metadata": {
        "id": "40hbUzAFXDiW"
      }
    },
    {
      "cell_type": "markdown",
      "source": [
        "**Activity 2:**"
      ],
      "metadata": {
        "id": "S8SdwcsHWbvm"
      }
    },
    {
      "cell_type": "code",
      "source": [
        "# Define a list of activation functions to experiment with\n",
        "activation_functions = ['sigmoid', 'tanh', 'relu']\n",
        "\n",
        "for activation_function in activation_functions:\n",
        "    # Build the CNN model with the specified activation function\n",
        "    model = tf.keras.Sequential([\n",
        "        tf.keras.layers.Conv2D(32, (3, 3), activation=activation_function, input_shape=(28, 28, 1)),\n",
        "        tf.keras.layers.MaxPooling2D((2, 2)),\n",
        "        tf.keras.layers.Conv2D(64, (3, 3), activation=activation_function),\n",
        "        tf.keras.layers.MaxPooling2D((2, 2)),\n",
        "        tf.keras.layers.Flatten(),\n",
        "        tf.keras.layers.Dense(128, activation=activation_function),\n",
        "        tf.keras.layers.Dense(10, activation='softmax')\n",
        "    ])\n",
        "\n",
        "    # Compile the model\n",
        "    model.compile(optimizer='adam',\n",
        "                  loss='sparse_categorical_crossentropy',\n",
        "                  metrics=['accuracy'])\n",
        "\n",
        "    # Train the model\n",
        "    model.fit(train_images, train_labels, epochs=5)\n",
        "\n",
        "    # Evaluate the model\n",
        "    test_loss, test_acc = model.evaluate(test_images, test_labels)\n",
        "\n",
        "    print(f\"Activation Function: {activation_function}\")\n",
        "    print(\"Test accuracy:\", test_acc)\n",
        "    print(\"------------------\")"
      ],
      "metadata": {
        "colab": {
          "base_uri": "https://localhost:8080/"
        },
        "id": "gK8iBaA1UqtS",
        "outputId": "248c9813-c6dd-49cd-cd6e-1de56166a108"
      },
      "execution_count": 5,
      "outputs": [
        {
          "output_type": "stream",
          "name": "stdout",
          "text": [
            "Epoch 1/5\n",
            "1875/1875 [==============================] - 66s 35ms/step - loss: 0.6826 - accuracy: 0.7692\n",
            "Epoch 2/5\n",
            "1875/1875 [==============================] - 62s 33ms/step - loss: 0.1219 - accuracy: 0.9634\n",
            "Epoch 3/5\n",
            "1875/1875 [==============================] - 61s 32ms/step - loss: 0.0781 - accuracy: 0.9762\n",
            "Epoch 4/5\n",
            "1875/1875 [==============================] - 61s 33ms/step - loss: 0.0594 - accuracy: 0.9814\n",
            "Epoch 5/5\n",
            "1875/1875 [==============================] - 61s 33ms/step - loss: 0.0485 - accuracy: 0.9847\n",
            "313/313 [==============================] - 3s 10ms/step - loss: 0.0562 - accuracy: 0.9817\n",
            "Activation Function: sigmoid\n",
            "Test accuracy: 0.9817000031471252\n",
            "------------------\n",
            "Epoch 1/5\n",
            "1875/1875 [==============================] - 63s 33ms/step - loss: 0.1220 - accuracy: 0.9636\n",
            "Epoch 2/5\n",
            "1875/1875 [==============================] - 63s 34ms/step - loss: 0.0434 - accuracy: 0.9872\n",
            "Epoch 3/5\n",
            "1875/1875 [==============================] - 61s 33ms/step - loss: 0.0283 - accuracy: 0.9912\n",
            "Epoch 4/5\n",
            "1875/1875 [==============================] - 62s 33ms/step - loss: 0.0229 - accuracy: 0.9929\n",
            "Epoch 5/5\n",
            "1875/1875 [==============================] - 66s 35ms/step - loss: 0.0155 - accuracy: 0.9954\n",
            "313/313 [==============================] - 4s 12ms/step - loss: 0.0455 - accuracy: 0.9848\n",
            "Activation Function: tanh\n",
            "Test accuracy: 0.9847999811172485\n",
            "------------------\n",
            "Epoch 1/5\n",
            "1875/1875 [==============================] - 59s 31ms/step - loss: 0.1281 - accuracy: 0.9615\n",
            "Epoch 2/5\n",
            "1875/1875 [==============================] - 58s 31ms/step - loss: 0.0411 - accuracy: 0.9870\n",
            "Epoch 3/5\n",
            "1875/1875 [==============================] - 58s 31ms/step - loss: 0.0302 - accuracy: 0.9907\n",
            "Epoch 4/5\n",
            "1875/1875 [==============================] - 59s 31ms/step - loss: 0.0214 - accuracy: 0.9929\n",
            "Epoch 5/5\n",
            "1875/1875 [==============================] - 64s 34ms/step - loss: 0.0159 - accuracy: 0.9947\n",
            "313/313 [==============================] - 5s 15ms/step - loss: 0.0275 - accuracy: 0.9909\n",
            "Activation Function: relu\n",
            "Test accuracy: 0.9908999800682068\n",
            "------------------\n"
          ]
        }
      ]
    },
    {
      "cell_type": "markdown",
      "source": [
        "Activation Function: **sigmoid**\n",
        "\n",
        "**Test accuracy: 0.9817000031471252**\n",
        "\n",
        "------------------+------------------\n",
        "\n",
        "Activation Function: **tanh**\n",
        "\n",
        "**Test accuracy: 0.9847999811172485**\n",
        "\n",
        "------------------+------------------\n",
        "\n",
        "Activation Function: **relu**\n",
        "\n",
        "**Test accuracy: 0.9908999800682068**\n",
        "\n",
        "------------------+------------------\n",
        "\n",
        "The choice of activation function can have a significant impact on the performance of a CNN. In the provided example, different activation functions (sigmoid, tanh, and ReLU) were experimented with. ReLU tends to perform well due to its ability to handle vanishing gradient problems, but the performance may vary depending on the dataset and network architecture. It's essential to experiment with activation functions to find the one that works best for a specific problem."
      ],
      "metadata": {
        "id": "4VWHa3eCcL5E"
      }
    },
    {
      "cell_type": "markdown",
      "source": [
        "**Activity 3:**"
      ],
      "metadata": {
        "id": "eg5Ly8zsWjPy"
      }
    },
    {
      "cell_type": "code",
      "source": [
        "\n",
        "model = tf.keras.Sequential([\n",
        "    tf.keras.layers.Conv2D(32, (3, 3), activation='relu', input_shape=(28, 28, 1)),\n",
        "    tf.keras.layers.MaxPooling2D((2, 2)),\n",
        "    tf.keras.layers.Conv2D(64, (3, 3), activation='relu'),\n",
        "    tf.keras.layers.MaxPooling2D((2, 2)),\n",
        "    tf.keras.layers.Conv2D(128, (3, 3), activation='relu'),  # Additional Conv2D layer\n",
        "    tf.keras.layers.MaxPooling2D((2, 2)),  # Additional MaxPooling2D layer\n",
        "    tf.keras.layers.Flatten(),\n",
        "    tf.keras.layers.Dense(128, activation='relu'),\n",
        "    tf.keras.layers.Dense(10, activation='softmax')\n",
        "])\n",
        "\n",
        "model.compile(optimizer='adam', loss='sparse_categorical_crossentropy', metrics=['accuracy'])\n",
        "model.fit(train_images, train_labels, epochs=5)\n",
        "\n",
        "test_loss, test_acc = model.evaluate(test_images, test_labels)\n",
        "print(\"Test accuracy:\", test_acc)"
      ],
      "metadata": {
        "colab": {
          "base_uri": "https://localhost:8080/"
        },
        "id": "lPvbGk5FUrjR",
        "outputId": "20e02197-4526-457b-c9f7-7821d7d747df"
      },
      "execution_count": 4,
      "outputs": [
        {
          "output_type": "stream",
          "name": "stdout",
          "text": [
            "Epoch 1/5\n",
            "1875/1875 [==============================] - 60s 31ms/step - loss: 0.1749 - accuracy: 0.9460\n",
            "Epoch 2/5\n",
            "1875/1875 [==============================] - 62s 33ms/step - loss: 0.0624 - accuracy: 0.9807\n",
            "Epoch 3/5\n",
            "1875/1875 [==============================] - 61s 33ms/step - loss: 0.0446 - accuracy: 0.9856\n",
            "Epoch 4/5\n",
            "1875/1875 [==============================] - 63s 34ms/step - loss: 0.0339 - accuracy: 0.9894\n",
            "Epoch 5/5\n",
            "1875/1875 [==============================] - 62s 33ms/step - loss: 0.0258 - accuracy: 0.9918\n",
            "313/313 [==============================] - 3s 10ms/step - loss: 0.0556 - accuracy: 0.9829\n",
            "Test accuracy: 0.9829000234603882\n"
          ]
        }
      ]
    },
    {
      "cell_type": "markdown",
      "source": [
        "**Test accuracy: 0.9829000234603882**\n",
        "\n",
        "Adding more convolutional and pooling layers can increase the model's capacity\n",
        "to recognize complex features in the data. However, it also increases the model's computational complexity and may require more data to prevent overfitting. The impact on performance depends on the problem and the available data. Careful experimentation is necessary to determine the optimal depth and complexity of the CNN architecture."
      ],
      "metadata": {
        "id": "VaIk3JOkcMnC"
      }
    },
    {
      "cell_type": "markdown",
      "source": [
        "**Activity 4:**"
      ],
      "metadata": {
        "id": "ZeDcmQsfWm45"
      }
    },
    {
      "cell_type": "code",
      "source": [
        "optimizers = ['sgd', 'rmsprop']\n",
        "\n",
        "for optimizer in optimizers:\n",
        "    model = tf.keras.Sequential([\n",
        "        tf.keras.layers.Conv2D(32, (3, 3), activation='relu', input_shape=(28, 28, 1)),\n",
        "        tf.keras.layers.MaxPooling2D((2, 2)),\n",
        "        tf.keras.layers.Flatten(),\n",
        "        tf.keras.layers.Dense(128, activation='relu'),\n",
        "        tf.keras.layers.Dense(10, activation='softmax')\n",
        "    ])\n",
        "\n",
        "    model.compile(optimizer=optimizer, loss='sparse_categorical_crossentropy', metrics=['accuracy'])\n",
        "    model.fit(train_images, train_labels, epochs=5)\n",
        "\n",
        "    test_loss, test_acc = model.evaluate(test_images, test_labels)\n",
        "    print(f\"Test accuracy with {optimizer} optimizer:\", test_acc)"
      ],
      "metadata": {
        "colab": {
          "base_uri": "https://localhost:8080/"
        },
        "id": "7hvQuT0rUutr",
        "outputId": "62d7d59d-d9ff-4e71-a74a-4a8ec34e89d1"
      },
      "execution_count": 6,
      "outputs": [
        {
          "output_type": "stream",
          "name": "stdout",
          "text": [
            "Epoch 1/5\n",
            "1875/1875 [==============================] - 39s 20ms/step - loss: 0.4605 - accuracy: 0.8773\n",
            "Epoch 2/5\n",
            "1875/1875 [==============================] - 37s 20ms/step - loss: 0.2103 - accuracy: 0.9382\n",
            "Epoch 3/5\n",
            "1875/1875 [==============================] - 37s 20ms/step - loss: 0.1599 - accuracy: 0.9532\n",
            "Epoch 4/5\n",
            "1875/1875 [==============================] - 37s 20ms/step - loss: 0.1303 - accuracy: 0.9615\n",
            "Epoch 5/5\n",
            "1875/1875 [==============================] - 38s 20ms/step - loss: 0.1106 - accuracy: 0.9673\n",
            "313/313 [==============================] - 2s 7ms/step - loss: 0.1055 - accuracy: 0.9682\n",
            "Test accuracy with sgd optimizer: 0.9682000279426575\n",
            "Epoch 1/5\n",
            "1875/1875 [==============================] - 41s 22ms/step - loss: 0.1491 - accuracy: 0.9554\n",
            "Epoch 2/5\n",
            "1875/1875 [==============================] - 41s 22ms/step - loss: 0.0526 - accuracy: 0.9839\n",
            "Epoch 3/5\n",
            "1875/1875 [==============================] - 41s 22ms/step - loss: 0.0345 - accuracy: 0.9893\n",
            "Epoch 4/5\n",
            "1875/1875 [==============================] - 42s 22ms/step - loss: 0.0248 - accuracy: 0.9926\n",
            "Epoch 5/5\n",
            "1875/1875 [==============================] - 41s 22ms/step - loss: 0.0175 - accuracy: 0.9945\n",
            "313/313 [==============================] - 3s 9ms/step - loss: 0.0385 - accuracy: 0.9880\n",
            "Test accuracy with rmsprop optimizer: 0.9879999756813049\n"
          ]
        }
      ]
    },
    {
      "cell_type": "markdown",
      "source": [
        "**Test accuracy with sgd optimizer: 0.9682000279426575**\n",
        "\n",
        "**Test accuracy with rmsprop optimizer: 0.9879999756813049**\n",
        "\n",
        "\n",
        "The choice of optimizer can affect the training speed and performance of a CNN. In the provided example, SGD and RMSprop optimizers were experimented with. SGD is a simple optimizer that may require fine-tuning of learning rates, while RMSprop adapts the learning rates and often converges faster. The choice of optimizer should consider the specific problem, and hyperparameter tuning may be necessary to achieve the best results."
      ],
      "metadata": {
        "id": "mmUYd8v1cNNb"
      }
    },
    {
      "cell_type": "markdown",
      "source": [
        "**Activity 5:**"
      ],
      "metadata": {
        "id": "-xl2m0qeo6zM"
      }
    },
    {
      "cell_type": "code",
      "source": [
        "model = tf . keras . Sequential ([\n",
        "    tf.keras.layers.Conv2D(32 , (3,3) , activation ='relu',input_shape =(28 , 28 , 1) ) ,\n",
        "    tf.keras.layers.MaxPooling2D ((2 , 2) ) ,\n",
        "    tf.keras.layers.Conv2D(64 , (3 ,3) , activation ='relu') ,\n",
        "    tf.keras.layers.MaxPooling2D((2 , 2) ) ,\n",
        "    tf.keras.layers.Flatten() ,\n",
        "    tf.keras.layers.Dense(128 , activation ='relu') ,\n",
        "    tf.keras.layers.Dense(10 , activation ='softmax')\n",
        "])\n",
        "\n",
        "\n",
        "model.compile( optimizer ='adam' ,loss = 'sparse_categorical_crossentropy',metrics = [ 'accuracy'])\n",
        "model.fit( train_images , train_labels , epochs =5)\n",
        "\n",
        "test_loss , test_acc = model . evaluate ( test_images , test_labels)\n",
        "model.save ('mnist_cnn_model.h5')\n",
        "\n",
        "loaded_model = tf.keras.models.load_model ('mnist_cnn_model.h5')\n",
        "\n",
        "test_loss , test_acc = loaded_model.evaluate (test_images ,test_labels)\n",
        "\n",
        "print(\"Test accuracy:\", test_acc)"
      ],
      "metadata": {
        "colab": {
          "base_uri": "https://localhost:8080/"
        },
        "id": "REO6n1fWmaNm",
        "outputId": "e73fe007-a563-458a-d794-c706ee8448b0"
      },
      "execution_count": 7,
      "outputs": [
        {
          "output_type": "stream",
          "name": "stdout",
          "text": [
            "Epoch 1/5\n",
            "1875/1875 [==============================] - 59s 31ms/step - loss: 0.1255 - accuracy: 0.9610\n",
            "Epoch 2/5\n",
            "1875/1875 [==============================] - 59s 32ms/step - loss: 0.0422 - accuracy: 0.9870\n",
            "Epoch 3/5\n",
            "1875/1875 [==============================] - 60s 32ms/step - loss: 0.0285 - accuracy: 0.9909\n",
            "Epoch 4/5\n",
            "1875/1875 [==============================] - 57s 30ms/step - loss: 0.0204 - accuracy: 0.9931\n",
            "Epoch 5/5\n",
            "1875/1875 [==============================] - 56s 30ms/step - loss: 0.0156 - accuracy: 0.9950\n",
            "313/313 [==============================] - 3s 9ms/step - loss: 0.0300 - accuracy: 0.9912\n"
          ]
        },
        {
          "output_type": "stream",
          "name": "stderr",
          "text": [
            "/usr/local/lib/python3.10/dist-packages/keras/src/engine/training.py:3000: UserWarning: You are saving your model as an HDF5 file via `model.save()`. This file format is considered legacy. We recommend using instead the native Keras format, e.g. `model.save('my_model.keras')`.\n",
            "  saving_api.save_model(\n"
          ]
        },
        {
          "output_type": "stream",
          "name": "stdout",
          "text": [
            "313/313 [==============================] - 4s 11ms/step - loss: 0.0300 - accuracy: 0.9912\n",
            "Test accuracy: 0.9911999702453613\n"
          ]
        }
      ]
    },
    {
      "cell_type": "markdown",
      "source": [
        "**Test accuracy: 0.9911999702453613**\n",
        "\n",
        "Evaluating the trained CNN model using test data is crucial to understand its performance on unseen data. The test accuracy provides a measure of how well the model generalizes to new samples. It helps in assessing the model's ability to make accurate predictions on real-world data and ensures that it has not overfit the training data. Evaluating the model with test data is a standard practice in machine learning to validate model performance."
      ],
      "metadata": {
        "id": "b8Oibwv0oxTl"
      }
    }
  ]
}