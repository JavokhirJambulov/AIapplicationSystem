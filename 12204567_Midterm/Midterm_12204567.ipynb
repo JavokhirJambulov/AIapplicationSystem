{
  "nbformat": 4,
  "nbformat_minor": 0,
  "metadata": {
    "colab": {
      "provenance": [],
      "authorship_tag": "ABX9TyOvXa2WxocMlGdc2xa3hyaP",
      "include_colab_link": true
    },
    "kernelspec": {
      "name": "python3",
      "display_name": "Python 3"
    },
    "language_info": {
      "name": "python"
    }
  },
  "cells": [
    {
      "cell_type": "markdown",
      "metadata": {
        "id": "view-in-github",
        "colab_type": "text"
      },
      "source": [
        "<a href=\"https://colab.research.google.com/github/JavokhirJambulov/AIapplicationSystem/blob/main/12204567_Midterm/Midterm_12204567.ipynb\" target=\"_parent\"><img src=\"https://colab.research.google.com/assets/colab-badge.svg\" alt=\"Open In Colab\"/></a>"
      ]
    },
    {
      "cell_type": "markdown",
      "source": [
        "Task 1\n"
      ],
      "metadata": {
        "id": "bzMdi2LT61mT"
      }
    },
    {
      "cell_type": "code",
      "execution_count": 34,
      "metadata": {
        "colab": {
          "base_uri": "https://localhost:8080/"
        },
        "id": "IVz5se1m6xtv",
        "outputId": "f9199838-335e-4b85-ee79-fa5a08dd0191"
      },
      "outputs": [
        {
          "output_type": "stream",
          "name": "stdout",
          "text": [
            "Sequence with Low System Anomaly Probability:\n",
            "{'temperature': 65.08409381356681, 'vibration': 0.20545396159970253, 'belt_speed': 0.9149452266457284, 'is_failure_occurred': 0}\n",
            "{'temperature': 65.46740821502513, 'vibration': 0.12971163699134514, 'belt_speed': 0.9311057805763708, 'is_failure_occurred': 0}\n",
            "{'temperature': 75.44998220541815, 'vibration': 0.21990985290831816, 'belt_speed': 0.9162107238279136, 'is_failure_occurred': 0}\n",
            "{'temperature': 70.37232312021906, 'vibration': 0.19562837442889072, 'belt_speed': 0.9784942402722944, 'is_failure_occurred': 0}\n",
            "{'temperature': 73.62635647656052, 'vibration': 0.12929596903705298, 'belt_speed': 0.8172291415194352, 'is_failure_occurred': 1}\n",
            "{'temperature': 68.78335653459375, 'vibration': 0.2081199650563136, 'belt_speed': 1.016919283332105, 'is_failure_occurred': 1}\n",
            "{'temperature': 68.87834201370771, 'vibration': 0.1999370792654741, 'belt_speed': 0.7296956283203335, 'is_failure_occurred': 1}\n",
            "{'temperature': 64.05190916198737, 'vibration': 0.10179340603789283, 'belt_speed': 0.9554929332083972, 'is_failure_occurred': 1}\n",
            "{'temperature': 70.07874735246476, 'vibration': 0.16311387086987073, 'belt_speed': 0.7801392650740417, 'is_failure_occurred': 1}\n",
            "{'temperature': 66.25724937781504, 'vibration': 0.20527003954230028, 'belt_speed': 0.7740404054995161, 'is_failure_occurred': 1}\n",
            "{'temperature': 67.77424714900965, 'vibration': 0.1700557530596186, 'belt_speed': 0.7222901921228981, 'is_failure_occurred': 1}\n",
            "{'temperature': 64.41299044202863, 'vibration': 0.21237565227625999, 'belt_speed': 0.6640378133945818, 'is_failure_occurred': 1}\n",
            "{'temperature': 78.01524808927668, 'vibration': 0.20538017179399856, 'belt_speed': 0.8890034010484709, 'is_failure_occurred': 1}\n",
            "{'temperature': 64.64309777256057, 'vibration': 0.2328383615902203, 'belt_speed': 0.8221223216409317, 'is_failure_occurred': 1}\n",
            "{'temperature': 68.44649542012048, 'vibration': 0.2198163380682671, 'belt_speed': 0.8484700556197882, 'is_failure_occurred': 1}\n",
            "{'temperature': 68.97031872078142, 'vibration': 0.29847818398376025, 'belt_speed': 0.9082967855872632, 'is_failure_occurred': 1}\n",
            "{'temperature': 67.32817773651571, 'vibration': 0.22601508223250455, 'belt_speed': 0.9282952656321585, 'is_failure_occurred': 1}\n",
            "{'temperature': 72.78338217149616, 'vibration': 0.31307282864454555, 'belt_speed': 0.734808561505746, 'is_failure_occurred': 1}\n",
            "{'temperature': 66.33146451759612, 'vibration': 0.22198641441830466, 'belt_speed': 0.8392716885382778, 'is_failure_occurred': 1}\n",
            "{'temperature': 73.17440815680993, 'vibration': 0.1998225125132786, 'belt_speed': 0.9113620409554378, 'is_failure_occurred': 1}\n",
            "{'temperature': 68.5375028695729, 'vibration': 0.2656846343163655, 'belt_speed': 0.7610562119129513, 'is_failure_occurred': 1}\n",
            "{'temperature': 81.52617275024863, 'vibration': 0.1365568209338482, 'belt_speed': 0.9688085376318284, 'is_failure_occurred': 1}\n",
            "{'temperature': 76.9489074983242, 'vibration': 0.1851375185122243, 'belt_speed': 0.8074108979916887, 'is_failure_occurred': 1}\n",
            "{'temperature': 77.90556831318179, 'vibration': 0.13810708938548813, 'belt_speed': 0.8021848178145808, 'is_failure_occurred': 1}\n",
            "{'temperature': 65.17949671361207, 'vibration': 0.30718404348560324, 'belt_speed': 0.7153089626226121, 'is_failure_occurred': 1}\n",
            "{'temperature': 67.99920129911261, 'vibration': 0.24080467887954618, 'belt_speed': 0.875776983172973, 'is_failure_occurred': 1}\n",
            "{'temperature': 70.01062633109076, 'vibration': 0.2092227198510613, 'belt_speed': 0.7824204621544237, 'is_failure_occurred': 1}\n",
            "{'temperature': 67.98901373246983, 'vibration': 0.27964091924666845, 'belt_speed': 0.7444309688707685, 'is_failure_occurred': 1}\n",
            "{'temperature': 66.9947518549515, 'vibration': 0.1449480463715228, 'belt_speed': 0.8361267206541925, 'is_failure_occurred': 1}\n",
            "{'temperature': 71.00143624694829, 'vibration': 0.15887147385983647, 'belt_speed': 0.7797345639340363, 'is_failure_occurred': 1}\n",
            "{'temperature': 79.03785491161645, 'vibration': 0.13415034549289323, 'belt_speed': 0.7960980522079435, 'is_failure_occurred': 1}\n",
            "{'temperature': 71.57747496818715, 'vibration': 0.07871033003016659, 'belt_speed': 0.5999235610054385, 'is_failure_occurred': 1}\n",
            "{'temperature': 69.89740661566903, 'vibration': 0.13062622986773226, 'belt_speed': 0.8044535624751202, 'is_failure_occurred': 1}\n",
            "{'temperature': 68.35391889902054, 'vibration': 0.13809870222552806, 'belt_speed': 0.850344876731573, 'is_failure_occurred': 1}\n",
            "{'temperature': 66.70612911370846, 'vibration': 0.11217948167605252, 'belt_speed': 0.8507218759107884, 'is_failure_occurred': 1}\n",
            "{'temperature': 67.6632969070202, 'vibration': 0.14373464629430752, 'belt_speed': 0.7558425710993192, 'is_failure_occurred': 1}\n",
            "{'temperature': 66.14214072002515, 'vibration': 0.1687674762305572, 'belt_speed': 1.0042903068574698, 'is_failure_occurred': 1}\n",
            "{'temperature': 67.23441906176926, 'vibration': 0.1819467285182221, 'belt_speed': 0.7686603334210441, 'is_failure_occurred': 1}\n",
            "{'temperature': 66.05703544941082, 'vibration': 0.20378101618465572, 'belt_speed': 0.8009555099172464, 'is_failure_occurred': 1}\n",
            "{'temperature': 74.66343749328117, 'vibration': 0.18318932040867572, 'belt_speed': 0.7944754133444276, 'is_failure_occurred': 1}\n",
            "{'temperature': 74.54535130933185, 'vibration': 0.16349852800849132, 'belt_speed': 1.0198868364394564, 'is_failure_occurred': 1}\n",
            "{'temperature': 64.94404060709363, 'vibration': 0.2213138575604306, 'belt_speed': 0.841658860593259, 'is_failure_occurred': 1}\n",
            "{'temperature': 65.66608017677295, 'vibration': 0.23518085704520342, 'belt_speed': 0.8797093743535964, 'is_failure_occurred': 1}\n",
            "{'temperature': 71.28284727212507, 'vibration': 0.18215408311392273, 'belt_speed': 0.8731485488276653, 'is_failure_occurred': 1}\n",
            "{'temperature': 62.8134095281052, 'vibration': 0.16680329129029894, 'belt_speed': 0.958783737973039, 'is_failure_occurred': 1}\n",
            "{'temperature': 74.0456197831964, 'vibration': 0.14007914718901882, 'belt_speed': 0.6551865537295851, 'is_failure_occurred': 1}\n",
            "{'temperature': 75.3325787635925, 'vibration': 0.18274098675530503, 'belt_speed': 0.8197596695703931, 'is_failure_occurred': 1}\n",
            "{'temperature': 68.4550955334755, 'vibration': 0.29057471350077924, 'belt_speed': 0.8612586897267114, 'is_failure_occurred': 1}\n",
            "{'temperature': 62.00807458720012, 'vibration': 0.11270895995100935, 'belt_speed': 0.8477808172956731, 'is_failure_occurred': 1}\n",
            "{'temperature': 68.60070056971925, 'vibration': 0.22539853065438598, 'belt_speed': 0.7824041494280842, 'is_failure_occurred': 1}\n",
            "\n",
            "Sequence with High System Anomaly Probability:\n",
            "{'temperature': 80.92469481423828, 'vibration': 0.26881577779850063, 'belt_speed': 0.7858349147305839, 'is_failure_occurred': 0}\n",
            "{'temperature': 71.27335329660768, 'vibration': 0.16940519739878496, 'belt_speed': 0.9308485730514247, 'is_failure_occurred': 1}\n",
            "{'temperature': 75.80899954433957, 'vibration': 0.11510515765951757, 'belt_speed': 0.7800913432409551, 'is_failure_occurred': 1}\n",
            "{'temperature': 61.942955383554775, 'vibration': 0.18354753253057093, 'belt_speed': 0.7176833574183483, 'is_failure_occurred': 1}\n",
            "{'temperature': 72.39911795199858, 'vibration': 0.10674211324639972, 'belt_speed': 0.7439404816783163, 'is_failure_occurred': 1}\n",
            "{'temperature': 72.65223740520047, 'vibration': 0.10020409868952683, 'belt_speed': 0.7480820540992125, 'is_failure_occurred': 1}\n",
            "{'temperature': 68.81528322397594, 'vibration': 0.1822792120351422, 'belt_speed': 0.5936248008329235, 'is_failure_occurred': 1}\n",
            "{'temperature': 67.99344665936484, 'vibration': 0.19578006978511858, 'belt_speed': 0.8466331427604568, 'is_failure_occurred': 1}\n",
            "{'temperature': 75.10290696621972, 'vibration': 0.14286242146995148, 'belt_speed': 0.6522603034281276, 'is_failure_occurred': 1}\n",
            "{'temperature': 71.4199019156597, 'vibration': 0.1340024527559302, 'belt_speed': 0.7159861963636989, 'is_failure_occurred': 1}\n",
            "{'temperature': 68.51274291924103, 'vibration': 0.19525133302384734, 'belt_speed': 0.770042322112699, 'is_failure_occurred': 1}\n",
            "{'temperature': 65.09371611134027, 'vibration': 0.13088940126532916, 'belt_speed': 0.9762150416661621, 'is_failure_occurred': 1}\n",
            "{'temperature': 73.99953880002357, 'vibration': 0.2051802031592153, 'belt_speed': 0.7472251510684981, 'is_failure_occurred': 1}\n",
            "{'temperature': 67.69902362894534, 'vibration': 0.26040349107421906, 'belt_speed': 0.69451607638644, 'is_failure_occurred': 1}\n",
            "{'temperature': 64.12327394581278, 'vibration': 0.12721712003382085, 'belt_speed': 0.8968136685297043, 'is_failure_occurred': 1}\n",
            "{'temperature': 61.2782716826043, 'vibration': 0.1518731317687264, 'belt_speed': 0.5880712657334427, 'is_failure_occurred': 1}\n",
            "{'temperature': 72.79891010392154, 'vibration': 0.2238440119421907, 'belt_speed': 0.8487950610657196, 'is_failure_occurred': 1}\n",
            "{'temperature': 64.01839821403173, 'vibration': 0.2152530380831496, 'belt_speed': 0.7075472895919804, 'is_failure_occurred': 1}\n",
            "{'temperature': 56.583187694383795, 'vibration': 0.20917216282633186, 'belt_speed': 0.8312035430749186, 'is_failure_occurred': 1}\n",
            "{'temperature': 63.01857139631406, 'vibration': 0.2644392874879133, 'belt_speed': 0.7379982102315007, 'is_failure_occurred': 1}\n",
            "{'temperature': 59.30214090264026, 'vibration': 0.1898290303057903, 'belt_speed': 0.9433902973209486, 'is_failure_occurred': 1}\n",
            "{'temperature': 75.14483565255472, 'vibration': 0.20906518443828892, 'belt_speed': 0.920430301979464, 'is_failure_occurred': 1}\n",
            "{'temperature': 69.58837856338924, 'vibration': 0.06469653184672733, 'belt_speed': 0.9169267420514219, 'is_failure_occurred': 1}\n",
            "{'temperature': 71.03127640320147, 'vibration': 0.09262812215745256, 'belt_speed': 0.8867061471068606, 'is_failure_occurred': 1}\n",
            "{'temperature': 70.70806144791445, 'vibration': 0.205961926436736, 'belt_speed': 0.982969946878413, 'is_failure_occurred': 1}\n",
            "{'temperature': 70.58196487722896, 'vibration': 0.24097633343735747, 'belt_speed': 0.6382474931163324, 'is_failure_occurred': 1}\n",
            "{'temperature': 71.64055749552034, 'vibration': 0.2040075978606879, 'belt_speed': 0.8101328160560755, 'is_failure_occurred': 1}\n",
            "{'temperature': 71.04497608351228, 'vibration': 0.11197597116949788, 'belt_speed': 0.8570159629828876, 'is_failure_occurred': 1}\n",
            "{'temperature': 70.03854807972503, 'vibration': 0.23281868471654915, 'belt_speed': 0.7456710851620152, 'is_failure_occurred': 1}\n",
            "{'temperature': 70.76555043860321, 'vibration': 0.18259283801579906, 'belt_speed': 0.8533697798258346, 'is_failure_occurred': 1}\n",
            "{'temperature': 67.9925551730921, 'vibration': 0.2299233963598137, 'belt_speed': 0.632600192192068, 'is_failure_occurred': 1}\n",
            "{'temperature': 66.36788019420754, 'vibration': 0.21919406834763244, 'belt_speed': 0.7748086726513411, 'is_failure_occurred': 1}\n",
            "{'temperature': 76.02645296708063, 'vibration': 0.21653984114885297, 'belt_speed': 0.8720641697550638, 'is_failure_occurred': 1}\n",
            "{'temperature': 80.00226465423658, 'vibration': 0.20893386736440828, 'belt_speed': 0.8040352895962344, 'is_failure_occurred': 1}\n",
            "{'temperature': 64.88146280392084, 'vibration': 0.23173879793293994, 'belt_speed': 0.9456870335329374, 'is_failure_occurred': 1}\n",
            "{'temperature': 70.15686270754142, 'vibration': 0.22979628732158963, 'belt_speed': 0.627548007941376, 'is_failure_occurred': 1}\n",
            "{'temperature': 62.059382430766604, 'vibration': 0.2232171579142285, 'belt_speed': 0.7815163513946879, 'is_failure_occurred': 1}\n",
            "{'temperature': 72.78607240937228, 'vibration': 0.12239301576898577, 'belt_speed': 0.8087354432111076, 'is_failure_occurred': 1}\n",
            "{'temperature': 73.29532889295099, 'vibration': 0.2370781546546522, 'belt_speed': 0.6716300129985107, 'is_failure_occurred': 1}\n",
            "{'temperature': 66.47837842719204, 'vibration': 0.045605265657027355, 'belt_speed': 0.7879638378259085, 'is_failure_occurred': 1}\n",
            "{'temperature': 63.5739014426823, 'vibration': 0.17154244638007668, 'belt_speed': 0.8859799115120253, 'is_failure_occurred': 1}\n",
            "{'temperature': 72.34816275089791, 'vibration': 0.12983903242402436, 'belt_speed': 0.7365782881551358, 'is_failure_occurred': 1}\n",
            "{'temperature': 64.78547299742208, 'vibration': 0.15951622887203926, 'belt_speed': 0.8636635113271877, 'is_failure_occurred': 1}\n",
            "{'temperature': 56.366351946851, 'vibration': 0.23197366491905438, 'belt_speed': 0.8263948460833962, 'is_failure_occurred': 1}\n",
            "{'temperature': 68.8240523891675, 'vibration': 0.22607302269788282, 'belt_speed': 0.7805418710446783, 'is_failure_occurred': 1}\n",
            "{'temperature': 70.70940071381872, 'vibration': 0.15949799388887823, 'belt_speed': 0.9237389114123622, 'is_failure_occurred': 1}\n",
            "{'temperature': 69.84315193333019, 'vibration': 0.15570093571712001, 'belt_speed': 0.9163028562391763, 'is_failure_occurred': 1}\n",
            "{'temperature': 74.64028128898279, 'vibration': 0.21268231994003658, 'belt_speed': 0.9701812900715787, 'is_failure_occurred': 1}\n",
            "{'temperature': 70.75727007760187, 'vibration': 0.24415647587299746, 'belt_speed': 0.706029623422461, 'is_failure_occurred': 1}\n",
            "{'temperature': 64.15069891304768, 'vibration': 0.14235700392507825, 'belt_speed': 0.789877502204301, 'is_failure_occurred': 1}\n"
          ]
        }
      ],
      "source": [
        "import numpy as np\n",
        "\n",
        "#Task 1 a: Implement the Generate Sequential Data Function\n",
        "def generate_sequential_data(sequence_length, failure_probability):\n",
        "    sequence = []\n",
        "    is_failure_occurred = False\n",
        "\n",
        "    for _ in range(sequence_length):\n",
        "        # Simulate sensor measurements (e.g., temperature, vibration, belt speed)\n",
        "        temperature = np.random.normal(70, 5)\n",
        "        vibration = np.random.normal(0.2, 0.05)\n",
        "        belt_speed = np.random.normal(0.8, 0.1)\n",
        "\n",
        "        # Task 1 b: Trigger a system anomaly if a random number falls below the failure probability threshold\n",
        "        if not is_failure_occurred and np.random.random() < failure_probability:\n",
        "            is_failure_occurred = True\n",
        "\n",
        "        # Create a data point with sensor measurements and system anomaly status\n",
        "        data_point = {\n",
        "            'temperature': temperature,\n",
        "            'vibration': vibration,\n",
        "            'belt_speed': belt_speed,\n",
        "            'is_failure_occurred': int(is_failure_occurred)\n",
        "        }\n",
        "        sequence.append(data_point)\n",
        "\n",
        "    return sequence\n",
        "\n",
        "# Task 1 c: Generate a sequence with a specific system anomaly probability\n",
        "# Generating a sequence with a low anomaly probability (e.g., 0.1)\n",
        "sequence_low_anomaly = generate_sequential_data(sequence_length=50, failure_probability=0.1)\n",
        "\n",
        "# Generating a sequence with a high anomaly probability (e.g., 0.5)\n",
        "sequence_high_anomaly = generate_sequential_data(sequence_length=50, failure_probability=0.5)\n",
        "\n",
        "# Display the generated sequences using for loop\n",
        "print(\"Sequence with Low System Anomaly Probability:\")\n",
        "for data_point in sequence_low_anomaly:\n",
        "    print(data_point)\n",
        "\n",
        "print(\"\\nSequence with High System Anomaly Probability:\")\n",
        "for data_point in sequence_high_anomaly:\n",
        "    print(data_point)\n",
        "\n"
      ]
    },
    {
      "cell_type": "markdown",
      "source": [
        "Part A: Implement Data Generation Function\n",
        "\n",
        "Task: Create a function to generate synthetic sequential data for conveyor belts.\n",
        "Objective: Simulate sensor readings (e.g., temperature, vibration, belt speed) over time.\n",
        "Importance: Realistic data is vital for training and testing predictive maintenance models.\n",
        "\n",
        "Part B: Modify Function for Failure Detection\n",
        "\n",
        "Task: Enhance the data generation function to include failure probability.\n",
        "Objective: Simulate scenarios with and without failure detection.\n",
        "Benefit: The model can learn both normal and failure patterns, enabling more robust predictions.\n",
        "\n",
        "Part C: Generate Datasets with Varying Probabilities\n",
        "\n",
        "Task: Create datasets with a specific number of sequences and sequence length.\n",
        "Objective: Experiment with different failure probabilities for diverse maintenance scenarios.\n",
        "Significance: Helps assess the model's ability to predict failures under varying conditions."
      ],
      "metadata": {
        "id": "YjutG6ES7K2B"
      }
    },
    {
      "cell_type": "markdown",
      "source": [
        "Task 2"
      ],
      "metadata": {
        "id": "RUV6uMU_64XR"
      }
    },
    {
      "cell_type": "code",
      "source": [
        "import numpy as np\n",
        "from sklearn.preprocessing import StandardScaler\n",
        "from sklearn.model_selection import train_test_split\n",
        "\n",
        "# Part 2 A: Implement the preprocess_sequential_data Function\n",
        "def preprocess_sequential_data(data, failure_labels, test_size=0.2, random_state=None):\n",
        "    # Extract numerical features from the data (e.g., temperature, vibration, belt speed)\n",
        "    numerical_features = [[data_point['temperature'], data_point['vibration'], data_point['belt_speed']] for data_point in data]\n",
        "\n",
        "    # Convert the features to a NumPy array\n",
        "    data = np.array(numerical_features)\n",
        "    failure_labels = np.array(failure_labels)\n",
        "\n",
        "    # Part 2 B: Use the StandardScaler to Scale Data\n",
        "    scaler = StandardScaler()\n",
        "\n",
        "    # Scale the data\n",
        "    data = scaler.fit_transform(data)\n",
        "\n",
        "    # Part 2 C: Split the Data into Training and Testing Sets\n",
        "    X_train, X_test, y_train, y_test = train_test_split(data, failure_labels, test_size=test_size, random_state=random_state)\n",
        "\n",
        "    return X_train, X_test, y_train, y_test, scaler\n",
        "\n",
        "\n",
        "# Generate synthetic data using your original function from task 1\n",
        "data = generate_sequential_data(sequence_length=100, failure_probability=0.2)\n",
        "# Extract failure labels from the data generated above\n",
        "failure_labels = [data_point['is_failure_occurred'] for data_point in data]\n",
        "\n",
        "X_train, X_test, y_train, y_test,scaler = preprocess_sequential_data(data, failure_labels, test_size=0.2, random_state=42)\n",
        "\n",
        "# Final results:\n",
        "print(\"X_train Shape:\", X_train.shape)\n",
        "print(\"X_test Shape:\", X_test.shape)\n",
        "print(\"y_train Shape:\", y_train.shape)\n",
        "print(\"y_test Shape:\", y_test.shape)\n"
      ],
      "metadata": {
        "colab": {
          "base_uri": "https://localhost:8080/"
        },
        "id": "c2DGwkqU7IZW",
        "outputId": "81e5b401-f48d-47f5-9040-da5b53ef93a0"
      },
      "execution_count": 35,
      "outputs": [
        {
          "output_type": "stream",
          "name": "stdout",
          "text": [
            "X_train Shape: (80, 3)\n",
            "X_test Shape: (20, 3)\n",
            "y_train Shape: (80,)\n",
            "y_test Shape: (20,)\n"
          ]
        }
      ]
    },
    {
      "cell_type": "markdown",
      "source": [
        "Part A: Implement the preprocess_sequential_data Function\n",
        "\n",
        "Task: Create a function to preprocess the generated sequential data for predictive maintenance.\n",
        "Objective: Extract numerical features from the data, convert them into a NumPy array, and prepare the data for further processing.\n",
        "Significance: Data preprocessing is a crucial step in machine learning to ensure that the data is in the right format for modeling.\n",
        "\n",
        "Part B: Use the StandardScaler to Scale Data\n",
        "\n",
        "Task: Apply the StandardScaler to the preprocessed data.\n",
        "Objective: Scale the data to have a mean of 0 and a standard deviation of 1, making it suitable for machine learning algorithms.\n",
        "Importance: Scaling ensures that features are on the same scale, which can improve the performance of machine learning models.\n",
        "\n",
        "Part C: Split the Data into Training and Testing Sets\n",
        "\n",
        "Task: Split the preprocessed data into training and testing sets.\n",
        "Objective: Create separate datasets for training and evaluation to assess the performance of the predictive maintenance model.\n",
        "Benefit: This step enables model evaluation and validation using a hold-out test set.\n",
        "\n"
      ],
      "metadata": {
        "id": "hY8DPzwI7LVB"
      }
    },
    {
      "cell_type": "markdown",
      "source": [
        "Task 3"
      ],
      "metadata": {
        "id": "e7MTrEhJ65ux"
      }
    },
    {
      "cell_type": "code",
      "source": [
        "import numpy as np\n",
        "import tensorflow as tf\n",
        "from tensorflow import keras\n",
        "from sklearn.preprocessing import StandardScaler\n",
        "from sklearn.model_selection import train_test_split\n",
        "\n",
        "# Example usage:\n",
        "# Generate synthetic data using your original function\n",
        "data = generate_sequential_data(sequence_length=100, failure_probability=0.2)\n",
        "# Extract failure labels from the data\n",
        "failure_labels = [data_point['is_failure_occurred'] for data_point in data]\n",
        "\n",
        "X_train, X_test, y_train, y_test,scaler = preprocess_sequential_data(data, failure_labels, test_size=0.2, random_state=42)\n",
        "\n",
        "# Assuming your data has the shape (samples, features)\n",
        "# You can reshape it to (samples, timesteps, features) for the LSTM layer\n",
        "X_train = X_train.reshape(X_train.shape[0], 1, X_train.shape[1])\n",
        "X_test = X_test.reshape(X_test.shape[0], 1, X_test.shape[1])\n",
        "\n",
        "# Part 3A: Create an LSTM Model using TensorFlow and Keras\n",
        "model = keras.Sequential()\n",
        "\n",
        "# Part 3B: Define the Model Architecture with Suitable Layers\n",
        "model.add(keras.layers.LSTM(64, input_shape=(X_train.shape[1], X_train.shape[2])))\n",
        "model.add(keras.layers.Dense(1, activation='sigmoid'))\n",
        "\n",
        "# Part 3C: Compile the Model with an Appropriate Loss Function and Optimize\n",
        "model.compile(loss='binary_crossentropy', optimizer='adam', metrics=['accuracy'])\n",
        "\n",
        "# Model Summary\n",
        "model.summary()\n",
        "\n"
      ],
      "metadata": {
        "colab": {
          "base_uri": "https://localhost:8080/"
        },
        "id": "NT1rucSy7I7T",
        "outputId": "96a5e560-76c7-4e70-a096-664b44885e83"
      },
      "execution_count": 32,
      "outputs": [
        {
          "output_type": "stream",
          "name": "stdout",
          "text": [
            "Model: \"sequential_5\"\n",
            "_________________________________________________________________\n",
            " Layer (type)                Output Shape              Param #   \n",
            "=================================================================\n",
            " lstm_3 (LSTM)               (None, 64)                17408     \n",
            "                                                                 \n",
            " dense_3 (Dense)             (None, 1)                 65        \n",
            "                                                                 \n",
            "=================================================================\n",
            "Total params: 17473 (68.25 KB)\n",
            "Trainable params: 17473 (68.25 KB)\n",
            "Non-trainable params: 0 (0.00 Byte)\n",
            "_________________________________________________________________\n"
          ]
        }
      ]
    },
    {
      "cell_type": "markdown",
      "source": [
        "Part 3A: Create an LSTM Model using TensorFlow and Keras\n",
        "\n",
        "Task: Create an LSTM (Long Short-Term Memory) model using the TensorFlow and Keras framework.\n",
        "Objective: Build a neural network model that is suitable for sequential data, which is often used in time-series analysis and predictive maintenance.\n",
        "Significance: LSTMs are capable of capturing long-term dependencies in data, making them a powerful choice for modeling time-series and sequential data.\n",
        "\n",
        "Part 3B: Define the Model Architecture with Suitable Layers\n",
        "\n",
        "Task: Define the architecture of the LSTM model by specifying the layers.\n",
        "Objective: Configure the structure of the neural network, including the type and number of layers. In this case, an LSTM layer is used as the primary layer for sequence modeling, and a dense output layer is added with a sigmoid activation for binary classification.\n",
        "Importance: Properly defining the model architecture is essential to ensure that the neural network can effectively learn patterns in the data.\n",
        "\n",
        "Part 3C: Compile the Model with an Appropriate Loss Function and Optimizer\n",
        "\n",
        "Task: Compile the LSTM model with a loss function and optimizer.\n",
        "Objective: Set up the training process of the neural network by specifying the loss function (binary cross-entropy for binary classification) and the optimization algorithm (Adam optimizer).\n",
        "Benefit: Compiling the model prepares it for training and evaluation, and choosing the right loss function and optimizer is crucial for model performance."
      ],
      "metadata": {
        "id": "WFbuY82V7L4x"
      }
    },
    {
      "cell_type": "markdown",
      "source": [
        "Task 4"
      ],
      "metadata": {
        "id": "o8do84Lr68en"
      }
    },
    {
      "cell_type": "code",
      "source": [
        "# Assuming you have already executed the code for Task 1, Task 2, and Task 3\n",
        "\n",
        "# Part 4A: Train the LSTM Model\n",
        "epochs = 10  # Specify the number of training epochs\n",
        "batch_size1 = 32  # Specify the batch size for training\n",
        "\n",
        "history = model.fit(X_train, y_train, epochs=epochs, batch_size=batch_size1, validation_data=(X_test, y_test))\n",
        "\n",
        "# Part 4B: Monitor the Training Process and Evaluate Model Performance\n",
        "# You can monitor the training process using the 'history' object, which contains training and validation metrics.\n",
        "\n",
        "# Example: Plot training and validation accuracy over epochs\n",
        "import matplotlib.pyplot as plt\n",
        "plt.plot(history.history['accuracy'], label='Training Accuracy')\n",
        "plt.plot(history.history['val_accuracy'], label='Validation Accuracy')\n",
        "plt.xlabel('Epoch')\n",
        "plt.ylabel('Accuracy')\n",
        "plt.legend(loc='lower right')\n",
        "plt.show()\n",
        "\n",
        "# Example: Evaluate the model on the test data\n",
        "test_loss, test_accuracy = model.evaluate(X_test, y_test)\n",
        "print(f\"Test Loss: {test_loss}\")\n",
        "print(f\"Test Accuracy: {test_accuracy}\")\n"
      ],
      "metadata": {
        "colab": {
          "base_uri": "https://localhost:8080/",
          "height": 865
        },
        "id": "7Ho-sk237JdD",
        "outputId": "ce5aa315-95b4-49a7-eb5c-de160cef7b14"
      },
      "execution_count": 33,
      "outputs": [
        {
          "output_type": "stream",
          "name": "stdout",
          "text": [
            "Epoch 1/10\n",
            "3/3 [==============================] - 4s 307ms/step - loss: 0.6912 - accuracy: 0.4750 - val_loss: 0.6935 - val_accuracy: 0.4500\n",
            "Epoch 2/10\n",
            "3/3 [==============================] - 0s 22ms/step - loss: 0.6863 - accuracy: 0.5625 - val_loss: 0.6900 - val_accuracy: 0.5000\n",
            "Epoch 3/10\n",
            "3/3 [==============================] - 0s 20ms/step - loss: 0.6813 - accuracy: 0.6125 - val_loss: 0.6865 - val_accuracy: 0.5000\n",
            "Epoch 4/10\n",
            "3/3 [==============================] - 0s 21ms/step - loss: 0.6765 - accuracy: 0.6875 - val_loss: 0.6827 - val_accuracy: 0.5000\n",
            "Epoch 5/10\n",
            "3/3 [==============================] - 0s 22ms/step - loss: 0.6719 - accuracy: 0.7500 - val_loss: 0.6792 - val_accuracy: 0.6000\n",
            "Epoch 6/10\n",
            "3/3 [==============================] - 0s 23ms/step - loss: 0.6671 - accuracy: 0.7750 - val_loss: 0.6757 - val_accuracy: 0.6000\n",
            "Epoch 7/10\n",
            "3/3 [==============================] - 0s 30ms/step - loss: 0.6623 - accuracy: 0.8250 - val_loss: 0.6722 - val_accuracy: 0.6000\n",
            "Epoch 8/10\n",
            "3/3 [==============================] - 0s 24ms/step - loss: 0.6574 - accuracy: 0.8500 - val_loss: 0.6686 - val_accuracy: 0.7000\n",
            "Epoch 9/10\n",
            "3/3 [==============================] - 0s 23ms/step - loss: 0.6525 - accuracy: 0.8625 - val_loss: 0.6650 - val_accuracy: 0.7000\n",
            "Epoch 10/10\n",
            "3/3 [==============================] - 0s 30ms/step - loss: 0.6478 - accuracy: 0.8750 - val_loss: 0.6615 - val_accuracy: 0.7500\n"
          ]
        },
        {
          "output_type": "display_data",
          "data": {
            "text/plain": [
              "<Figure size 640x480 with 1 Axes>"
            ],
            "image/png": "[encoded data removed]"
          },
          "metadata": {}
        },
        {
          "output_type": "stream",
          "name": "stdout",
          "text": [
            "1/1 [==============================] - 0s 35ms/step - loss: 0.6615 - accuracy: 0.7500\n",
            "Test Loss: 0.661456286907196\n",
            "Test Accuracy: 0.75\n"
          ]
        }
      ]
    },
    {
      "cell_type": "markdown",
      "source": [
        "Part 4A: Train the LSTM Model\n",
        "\n",
        "Task: Train the LSTM (Long Short-Term Memory) model using the provided training data.\n",
        "Objective: This part involves the actual training of the neural network model using the training data. It specifies the number of training epochs (iterations) and the batch size used in each training iteration.\n",
        "Significance: Training is the phase where the model learns from the data by adjusting its internal parameters. The number of epochs and batch size can impact the model's performance and training time.\n",
        "\n",
        "Part 4B: Monitor the Training Process and Evaluate Model Performance\n",
        "\n",
        "Task: Monitor the training process and evaluate the model's performance.\n",
        "Objective: After training, it's important to evaluate how well the model is learning. This part involves monitoring the training progress by examining metrics like accuracy, loss, or other relevant metrics. It also includes evaluating the model's performance on a test dataset.\n",
        "Importance: Monitoring and evaluating the model's performance are crucial for assessing its ability to make predictions accurately and identifying potential issues or areas for improvement.\n",
        "\n",
        "In summary, Task 4 encompasses training the LSTM model with specified epochs and batch size, and then monitoring the training process and evaluating the model's performance to ensure it meets the desired criteria."
      ],
      "metadata": {
        "id": "O2eSADmE7MZx"
      }
    },
    {
      "cell_type": "markdown",
      "source": [
        "Task 5"
      ],
      "metadata": {
        "id": "02n44mQQ69z8"
      }
    },
    {
      "cell_type": "code",
      "source": [
        "import numpy as np\n",
        "import tensorflow as tf\n",
        "from tensorflow import keras\n",
        "import time\n",
        "import joblib  # For loading the scaler\n",
        "\n",
        "\n",
        "# Get the scaler from the return value of Task 2\n",
        "X_train, X_test, y_train, y_test, scaler = preprocess_sequential_data(data, failure_labels, test_size=0.2, random_state=42)\n",
        "\n",
        "\n",
        "\n",
        "# Generate real-time data\n",
        "def generate_real_time_data():\n",
        "    temperature = np.random.normal(70, 5)\n",
        "    vibration = np.random.normal(0.2, 0.05)\n",
        "    belt_speed = np.random.normal(0.8, 0.1)\n",
        "\n",
        "    data_point = {\n",
        "        'temperature': temperature,\n",
        "        'vibration': vibration,\n",
        "        'belt_speed': belt_speed,\n",
        "    }\n",
        "\n",
        "    return data_point\n",
        "\n",
        "# Define a function for making predictions\n",
        "def predict_failure(data_point):\n",
        "    # Create a NumPy array with the data point\n",
        "    data_array = np.array([[data_point['temperature'], data_point['vibration'], data_point['belt_speed']]])\n",
        "\n",
        "    # Scale the data using the same scaler used for training\n",
        "    scaled_data = scaler.transform(data_array)\n",
        "\n",
        "    # Reshape the data for the LSTM model\n",
        "    scaled_data = scaled_data.reshape(1, 1, 3)  # 1 sample, 1 time step, 3 features\n",
        "\n",
        "    # Make predictions using the trained model\n",
        "    prediction = model.predict(scaled_data)\n",
        "\n",
        "    return prediction\n",
        "\n",
        "# Alerting logic\n",
        "def alert_maintenance(prediction):\n",
        "    if prediction > 0.5:\n",
        "        print(\"Failure predicted! Alert maintenance team.\")\n",
        "    else:\n",
        "        print(\"No immediate maintenance required.\")\n",
        "\n",
        "# Set the number of iterations\n",
        "iterations = 30\n",
        "current_iteration = 0\n",
        "\n",
        "# Real-time simulation and prediction\n",
        "while current_iteration < iterations:\n",
        "    data_point = generate_real_time_data()\n",
        "    prediction = predict_failure(data_point)\n",
        "    alert_maintenance(prediction)\n",
        "\n",
        "    current_iteration += 1\n",
        "\n",
        "    # Simulate a time interval between data points\n",
        "    time.sleep(10)  # Sleep for 10 seconds between data points"
      ],
      "metadata": {
        "colab": {
          "base_uri": "https://localhost:8080/"
        },
        "id": "mGYAep1_7J2z",
        "outputId": "7dffad48-5039-4e16-a622-e33baae24fe3"
      },
      "execution_count": 30,
      "outputs": [
        {
          "output_type": "stream",
          "name": "stdout",
          "text": [
            "1/1 [==============================] - 0s 36ms/step\n",
            "No immediate maintenance required.\n",
            "1/1 [==============================] - 0s 49ms/step\n",
            "No immediate maintenance required.\n",
            "1/1 [==============================] - 0s 28ms/step\n",
            "No immediate maintenance required.\n",
            "1/1 [==============================] - 0s 23ms/step\n",
            "No immediate maintenance required.\n",
            "1/1 [==============================] - 0s 24ms/step\n",
            "No immediate maintenance required.\n",
            "1/1 [==============================] - 0s 28ms/step\n",
            "Failure predicted! Alert maintenance team.\n",
            "1/1 [==============================] - 0s 23ms/step\n",
            "No immediate maintenance required.\n",
            "1/1 [==============================] - 0s 22ms/step\n",
            "No immediate maintenance required.\n",
            "1/1 [==============================] - 0s 37ms/step\n",
            "Failure predicted! Alert maintenance team.\n",
            "1/1 [==============================] - 0s 23ms/step\n",
            "No immediate maintenance required.\n",
            "1/1 [==============================] - 0s 22ms/step\n",
            "No immediate maintenance required.\n",
            "1/1 [==============================] - 0s 25ms/step\n",
            "Failure predicted! Alert maintenance team.\n",
            "1/1 [==============================] - 0s 24ms/step\n",
            "No immediate maintenance required.\n",
            "1/1 [==============================] - 0s 31ms/step\n",
            "No immediate maintenance required.\n",
            "1/1 [==============================] - 0s 25ms/step\n",
            "No immediate maintenance required.\n",
            "1/1 [==============================] - 0s 22ms/step\n",
            "Failure predicted! Alert maintenance team.\n",
            "1/1 [==============================] - 0s 57ms/step\n",
            "Failure predicted! Alert maintenance team.\n",
            "1/1 [==============================] - 0s 24ms/step\n",
            "No immediate maintenance required.\n",
            "1/1 [==============================] - 0s 22ms/step\n",
            "Failure predicted! Alert maintenance team.\n",
            "1/1 [==============================] - 0s 25ms/step\n",
            "No immediate maintenance required.\n",
            "1/1 [==============================] - 0s 26ms/step\n",
            "No immediate maintenance required.\n",
            "1/1 [==============================] - 0s 26ms/step\n",
            "No immediate maintenance required.\n",
            "1/1 [==============================] - 0s 24ms/step\n",
            "Failure predicted! Alert maintenance team.\n",
            "1/1 [==============================] - 0s 37ms/step\n",
            "No immediate maintenance required.\n",
            "1/1 [==============================] - 0s 47ms/step\n",
            "No immediate maintenance required.\n",
            "1/1 [==============================] - 0s 24ms/step\n",
            "Failure predicted! Alert maintenance team.\n",
            "1/1 [==============================] - 0s 22ms/step\n",
            "No immediate maintenance required.\n",
            "1/1 [==============================] - 0s 25ms/step\n",
            "Failure predicted! Alert maintenance team.\n",
            "1/1 [==============================] - 0s 26ms/step\n",
            "No immediate maintenance required.\n",
            "1/1 [==============================] - 0s 25ms/step\n",
            "Failure predicted! Alert maintenance team.\n"
          ]
        }
      ]
    },
    {
      "cell_type": "markdown",
      "source": [
        "Part 5A: Generate Real-Time Data\n",
        "\n",
        "Task: Generate real-time data for the conveyor belts, simulating sensor readings like temperature, vibration, and belt speed.\n",
        "\n",
        "Objective: This part is responsible for generating synthetic sensor data as if it's coming in real-time from the conveyor belt system. This data is used for making predictions of potential failures.\n",
        "\n",
        "Significance: Real-time data generation is crucial for testing the model's ability to provide predictive maintenance based on incoming data.\n",
        "\n",
        "Part 5B: Make Predictions with the LSTM Model\n",
        "\n",
        "Task: Use the trained LSTM model from Task 4 to make predictions on the real-time data.\n",
        "Objective: After generating real-time data, the model is utilized to make predictions regarding potential failures. The data is scaled and reshaped to match the model's input format.\n",
        "\n",
        "Importance: Predictions are essential for identifying whether maintenance is needed. The LSTM model has learned patterns from the training data and can provide valuable insights.\n",
        "\n",
        "Part 5C: Implement Alerting Logic\n",
        "\n",
        "Task: Implement alerting logic to notify maintenance teams when a failure is predicted.\n",
        "Objective: Based on the model's predictions, alerting logic is used to determine whether a failure is likely. When a failure is predicted, an alert is sent to the maintenance team.\n",
        "Significance: Alerting is a critical aspect of predictive maintenance. It ensures that the right action is taken promptly when potential issues are detected, minimizing downtime and preventing failures."
      ],
      "metadata": {
        "id": "S3z4qiT67Mzq"
      }
    },
    {
      "cell_type": "markdown",
      "source": [
        "**Task 6:** Complete the Assignment:\n",
        "\n",
        "a) Run the simulation for a specified number of iterations. In my case it's 30 iterations."
      ],
      "metadata": {
        "id": "zNqLsq1Z6_p0"
      }
    }
  ]
}